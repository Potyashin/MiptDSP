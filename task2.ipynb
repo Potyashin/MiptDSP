{
 "cells": [
  {
   "cell_type": "code",
   "execution_count": 12,
   "metadata": {
    "executionInfo": {
     "elapsed": 2,
     "status": "ok",
     "timestamp": 1702715057116,
     "user": {
      "displayName": "Иван Потяшин",
      "userId": "02059300508094096314"
     },
     "user_tz": -180
    },
    "id": "l9afUMjVe7-N"
   },
   "outputs": [],
   "source": [
    "# !pip install torchmetrics[audio]\n",
    "# !pip install pesq\n",
    "import soundfile as sf\n",
    "import torch\n",
    "import torchmetrics\n",
    "from torchmetrics.functional.audio.pesq import perceptual_evaluation_speech_quality\n",
    "from torchmetrics.functional.audio import signal_distortion_ratio, scale_invariant_signal_distortion_ratio, signal_noise_ratio"
   ]
  },
  {
   "cell_type": "code",
   "execution_count": 4,
   "metadata": {
    "executionInfo": {
     "elapsed": 251,
     "status": "ok",
     "timestamp": 1702714915154,
     "user": {
      "displayName": "Иван Потяшин",
      "userId": "02059300508094096314"
     },
     "user_tz": -180
    },
    "id": "9QLb6KUChh3t"
   },
   "outputs": [],
   "source": [
    "data_folder = '/content/drive/MyDrive/DSP/'"
   ]
  },
  {
   "cell_type": "code",
   "source": [
    "orig, sr = sf.read(data_folder + 'gt.wav')\n",
    "orig_recorded, sr = sf.read(data_folder + 'gt_recorded.wav')\n",
    "orig_convolved, sr = sf.read(data_folder + 'gt_convolved.wav')"
   ],
   "metadata": {
    "id": "5Hg9t33alXR4",
    "executionInfo": {
     "status": "ok",
     "timestamp": 1702714915154,
     "user_tz": -180,
     "elapsed": 3,
     "user": {
      "displayName": "Иван Потяшин",
      "userId": "02059300508094096314"
     }
    }
   },
   "execution_count": 5,
   "outputs": []
  },
  {
   "cell_type": "code",
   "source": [
    "orig = torch.tensor(orig)\n",
    "orig_recorded = torch.tensor(orig_recorded[:orig.shape[0],0])\n",
    "orig_convolved = torch.tensor(orig_convolved)"
   ],
   "metadata": {
    "id": "eFmH6vdqlqKb",
    "executionInfo": {
     "status": "ok",
     "timestamp": 1702714915154,
     "user_tz": -180,
     "elapsed": 3,
     "user": {
      "displayName": "Иван Потяшин",
      "userId": "02059300508094096314"
     }
    }
   },
   "execution_count": 6,
   "outputs": []
  },
  {
   "cell_type": "code",
   "source": [
    "def count_metrics(bad, orig):\n",
    "    \"\"\"\n",
    "    Считает торчовые метрики\n",
    "    \"\"\"\n",
    "    metrics = {}\n",
    "    metrics['snr'] = signal_noise_ratio(bad, orig).item()\n",
    "    metrics['sdr'] = signal_distortion_ratio(bad, orig).item()\n",
    "    metrics['sisdr'] = scale_invariant_signal_distortion_ratio(bad, orig).item()\n",
    "    metrics['pesq'] = perceptual_evaluation_speech_quality(bad, orig, fs=8000, mode='nb').item()\n",
    "\n",
    "    return metrics\n",
    "\n",
    "## PESQ работает ТОЛЬКО по файлам 8 или 16 кГц. Для того, чтобы ее правильно использовать - надо ресемплить аудио в 16кГц и юзать WB режим (либо ресемплить в 8 и юзать NB). То же самое для DNSMOS."
   ],
   "metadata": {
    "id": "Ijq8PC5tmyfy",
    "executionInfo": {
     "status": "ok",
     "timestamp": 1702715751877,
     "user_tz": -180,
     "elapsed": 236,
     "user": {
      "displayName": "Иван Потяшин",
      "userId": "02059300508094096314"
     }
    }
   },
   "execution_count": 27,
   "outputs": []
  },
  {
   "cell_type": "code",
   "source": [
    "count_metrics(orig_recorded, orig)"
   ],
   "metadata": {
    "colab": {
     "base_uri": "https://localhost:8080/"
    },
    "id": "6O8Ogv7OnBB2",
    "executionInfo": {
     "status": "ok",
     "timestamp": 1702715101832,
     "user_tz": -180,
     "elapsed": 1587,
     "user": {
      "displayName": "Иван Потяшин",
      "userId": "02059300508094096314"
     }
    },
    "outputId": "a9e572d8-d8b8-4420-c47b-c9e9f784b2d1"
   },
   "execution_count": 14,
   "outputs": [
    {
     "output_type": "execute_result",
     "data": {
      "text/plain": [
       "{'snr': -0.43122999666163075,\n",
       " 'sdr': -2.3062697003655113,\n",
       " 'sisdr': -12.796161772764965,\n",
       " 'pesq': 2.208599805831909}"
      ]
     },
     "metadata": {},
     "execution_count": 14
    }
   ]
  },
  {
   "cell_type": "code",
   "source": [
    "count_metrics(orig_convolved, orig)"
   ],
   "metadata": {
    "colab": {
     "base_uri": "https://localhost:8080/"
    },
    "id": "n8ZbLJzZnGFL",
    "executionInfo": {
     "status": "ok",
     "timestamp": 1702715103042,
     "user_tz": -180,
     "elapsed": 1212,
     "user": {
      "displayName": "Иван Потяшин",
      "userId": "02059300508094096314"
     }
    },
    "outputId": "70a41280-2b67-49d5-dcf4-b7aa1039306d"
   },
   "execution_count": 15,
   "outputs": [
    {
     "output_type": "execute_result",
     "data": {
      "text/plain": [
       "{'snr': -2.8770304620141793,\n",
       " 'sdr': -23.588012838551098,\n",
       " 'sisdr': -58.114662545772205,\n",
       " 'pesq': 2.3284718990325928}"
      ]
     },
     "metadata": {},
     "execution_count": 15
    }
   ]
  },
  {
   "cell_type": "markdown",
   "source": [
    "Теперь посчитаем более сложные метрики, основанные на нейронках"
   ],
   "metadata": {
    "id": "TNitL9_bxhBB"
   }
  },
  {
   "cell_type": "markdown",
   "source": [
    "# NISQA"
   ],
   "metadata": {
    "id": "qPzSO6Xmxm_e"
   }
  },
  {
   "cell_type": "code",
   "source": [
    "!git clone https://github.com/gabrielmittag/NISQA.git"
   ],
   "metadata": {
    "id": "w2IX3qpTtdcG"
   },
   "execution_count": null,
   "outputs": []
  },
  {
   "cell_type": "code",
   "source": [
    "data_folder + 'gt_recorded.wav'"
   ],
   "metadata": {
    "colab": {
     "base_uri": "https://localhost:8080/",
     "height": 35
    },
    "id": "U_ubRQ2wwXyD",
    "executionInfo": {
     "status": "ok",
     "timestamp": 1702715556257,
     "user_tz": -180,
     "elapsed": 3,
     "user": {
      "displayName": "Иван Потяшин",
      "userId": "02059300508094096314"
     }
    },
    "outputId": "84bc98eb-70ee-4313-9fb8-1e91b32dff2d"
   },
   "execution_count": 22,
   "outputs": [
    {
     "output_type": "execute_result",
     "data": {
      "text/plain": [
       "'/content/drive/MyDrive/DSP/gt_recorded.wav'"
      ],
      "application/vnd.google.colaboratory.intrinsic+json": {
       "type": "string"
      }
     },
     "metadata": {},
     "execution_count": 22
    }
   ]
  },
  {
   "cell_type": "code",
   "source": [
    "!python NISQA/run_predict.py --mode predict_file --pretrained_model NISQA/weights/nisqa.tar --deg /content/drive/MyDrive/DSP/gt.wav --output_dir ./results"
   ],
   "metadata": {
    "colab": {
     "base_uri": "https://localhost:8080/"
    },
    "id": "Els_SBUmwrhs",
    "executionInfo": {
     "status": "ok",
     "timestamp": 1702715655673,
     "user_tz": -180,
     "elapsed": 9307,
     "user": {
      "displayName": "Иван Потяшин",
      "userId": "02059300508094096314"
     }
    },
    "outputId": "810be82d-fec9-4985-bbe8-02326a9b20b6"
   },
   "execution_count": 25,
   "outputs": [
    {
     "output_type": "stream",
     "name": "stdout",
     "text": [
      "Device: cpu\n",
      "Model architecture: NISQA_DIM\n",
      "Loaded pretrained model from NISQA/weights/nisqa.tar\n",
      "---> Predicting ...\n",
      "   deg  mos_pred  noi_pred  dis_pred  col_pred  loud_pred   model\n",
      "gt.wav  4.706658  4.499088  4.600805  4.408635    4.54724 NISQAv2\n"
     ]
    }
   ]
  },
  {
   "cell_type": "code",
   "source": [
    "!python NISQA/run_predict.py --mode predict_file --pretrained_model NISQA/weights/nisqa.tar --deg /content/drive/MyDrive/DSP/gt_recorded.wav --output_dir ./results"
   ],
   "metadata": {
    "colab": {
     "base_uri": "https://localhost:8080/"
    },
    "id": "6YCka0q4wLPa",
    "executionInfo": {
     "status": "ok",
     "timestamp": 1702715597982,
     "user_tz": -180,
     "elapsed": 18836,
     "user": {
      "displayName": "Иван Потяшин",
      "userId": "02059300508094096314"
     }
    },
    "outputId": "adeae6c5-a667-4252-8ae7-153329829020"
   },
   "execution_count": 24,
   "outputs": [
    {
     "output_type": "stream",
     "name": "stdout",
     "text": [
      "Device: cpu\n",
      "Model architecture: NISQA_DIM\n",
      "Loaded pretrained model from NISQA/weights/nisqa.tar\n",
      "---> Predicting ...\n",
      "            deg  mos_pred  noi_pred  dis_pred  col_pred  loud_pred   model\n",
      "gt_recorded.wav  2.869495  3.949003  4.017098  2.590037   2.898912 NISQAv2\n"
     ]
    }
   ]
  },
  {
   "cell_type": "code",
   "source": [
    "!python NISQA/run_predict.py --mode predict_file --pretrained_model NISQA/weights/nisqa.tar --deg /content/drive/MyDrive/DSP/gt_convolved.wav --output_dir ./results"
   ],
   "metadata": {
    "colab": {
     "base_uri": "https://localhost:8080/"
    },
    "id": "fD7PCj25wbJr",
    "executionInfo": {
     "status": "ok",
     "timestamp": 1702715662487,
     "user_tz": -180,
     "elapsed": 6188,
     "user": {
      "displayName": "Иван Потяшин",
      "userId": "02059300508094096314"
     }
    },
    "outputId": "ad5f567d-2b9a-4821-ed6b-c4b957d99b29"
   },
   "execution_count": 26,
   "outputs": [
    {
     "output_type": "stream",
     "name": "stdout",
     "text": [
      "Device: cpu\n",
      "Model architecture: NISQA_DIM\n",
      "Loaded pretrained model from NISQA/weights/nisqa.tar\n",
      "---> Predicting ...\n",
      "             deg  mos_pred  noi_pred  dis_pred  col_pred  loud_pred   model\n",
      "gt_convolved.wav  0.940502  2.145077  2.924746  1.222082   2.148507 NISQAv2\n"
     ]
    }
   ]
  },
  {
   "cell_type": "markdown",
   "source": [
    "| файл | SNR | SDR | SI-SDR |\tPESQ | NISQA (все пять значений) | DNSMOS | MOS |\n",
    "| --- | --- | --- | --- | --- | --- | --- | --- |\n",
    "| gt.wav (оригинал) | --- | --- | --- | --- | (4.7, 4.5, 4.6, 4.4, 4.5) | --- | 5 (excellent) |\n",
    "| gt_recorded.wav (записанный) | -0.43 | -2.3 | -12.8 | 2.21 |  (2.9, 3.9, 4.0, 2.6, 2.9) | --- | 4 (good) |\n",
    "| gt_convolved.wav (свернутый) | -2.88 | -23.6 | -58.1 | 2.32 | (0.9, 2.1, 2.9, 1.2, 2.1) | --- | 1 (bad) |"
   ],
   "metadata": {
    "id": "ecahU5Sgyg31"
   }
  },
  {
   "cell_type": "markdown",
   "source": [
    "# DNSMOS"
   ],
   "metadata": {
    "id": "iYBN8Sgmxot5"
   }
  },
  {
   "cell_type": "markdown",
   "source": [
    "Тут нужно было запрашивать какой-то ключ\n",
    "\n",
    "## Там в репе скрипт dnsmos_local.py есть)"
   ],
   "metadata": {
    "id": "dzxOYh_H3fDZ"
   }
  }
 ],
 "metadata": {
  "colab": {
   "provenance": [],
   "mount_file_id": "1i4k9CrIKl_iXafVVGFpHtGxAm57c59Q5",
   "authorship_tag": "ABX9TyPcBUvJFFolBkpTOD7HyRRz"
  },
  "kernelspec": {
   "display_name": "Python 3",
   "name": "python3"
  },
  "language_info": {
   "name": "python"
  }
 },
 "nbformat": 4,
 "nbformat_minor": 0
}
